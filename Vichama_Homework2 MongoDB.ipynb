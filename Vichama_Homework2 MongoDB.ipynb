{
 "cells": [
  {
   "cell_type": "code",
   "execution_count": 2,
   "id": "cb41cd63",
   "metadata": {},
   "outputs": [
    {
     "name": "stdout",
     "output_type": "stream",
     "text": [
      "Original data types:\n",
      "OrderNumber          object\n",
      "Sales Channel        object\n",
      "WarehouseCode        object\n",
      "ProcuredDate         object\n",
      "OrderDate            object\n",
      "ShipDate             object\n",
      "DeliveryDate         object\n",
      "CurrencyCode         object\n",
      "_SalesTeamID          int64\n",
      "_CustomerID           int64\n",
      "_StoreID              int64\n",
      "_ProductID            int64\n",
      "Order Quantity        int64\n",
      "Discount Applied    float64\n",
      "Unit Price           object\n",
      "Unit Cost            object\n",
      "dtype: object\n",
      "\n",
      "Sample values from 'Unit Price' column:\n",
      "0    1,963.10\n",
      "1    3,939.60\n",
      "2    1,775.50\n",
      "3    2,324.90\n",
      "4    1,822.40\n",
      "Name: Unit Price, dtype: object\n"
     ]
    }
   ],
   "source": [
    "import pandas as pd\n",
    "df = pd.read_csv('/Users/vijayshankarchamakuri/Downloads/Sales.csv')\n",
    "print(\"Original data types:\")\n",
    "print(df.dtypes)\n",
    "print(\"\\nSample values from 'Unit Price' column:\")\n",
    "print(df['Unit Price'].head())"
   ]
  },
  {
   "cell_type": "code",
   "execution_count": 3,
   "id": "4c84f5ef",
   "metadata": {},
   "outputs": [],
   "source": [
    "columns_to_clean = ['Unit Price', 'Unit Cost']"
   ]
  },
  {
   "cell_type": "code",
   "execution_count": 4,
   "id": "0136c787",
   "metadata": {},
   "outputs": [],
   "source": [
    "for col in columns_to_clean:\n",
    "    df[col] = df[col].replace(',', '', regex=True)\n",
    "    df[col] = df[col].astype(float)"
   ]
  },
  {
   "cell_type": "code",
   "execution_count": 5,
   "id": "07e8451e",
   "metadata": {},
   "outputs": [
    {
     "name": "stdout",
     "output_type": "stream",
     "text": [
      "\n",
      "Data types after cleaning:\n",
      "OrderNumber          object\n",
      "Sales Channel        object\n",
      "WarehouseCode        object\n",
      "ProcuredDate         object\n",
      "OrderDate            object\n",
      "ShipDate             object\n",
      "DeliveryDate         object\n",
      "CurrencyCode         object\n",
      "_SalesTeamID          int64\n",
      "_CustomerID           int64\n",
      "_StoreID              int64\n",
      "_ProductID            int64\n",
      "Order Quantity        int64\n",
      "Discount Applied    float64\n",
      "Unit Price          float64\n",
      "Unit Cost           float64\n",
      "dtype: object\n",
      "   Unit Price  Unit Cost\n",
      "0      1963.1    1001.18\n",
      "1      3939.6    3348.66\n",
      "2      1775.5     781.22\n",
      "3      2324.9    1464.69\n",
      "4      1822.4    1476.14\n"
     ]
    }
   ],
   "source": [
    "print(\"\\nData types after cleaning:\")\n",
    "print(df.dtypes)\n",
    "print(df[columns_to_clean].head())"
   ]
  },
  {
   "cell_type": "code",
   "execution_count": 6,
   "id": "65de5b54",
   "metadata": {},
   "outputs": [],
   "source": [
    "df.to_csv('cleaned_sales_data.csv', index=False)"
   ]
  }
 ],
 "metadata": {
  "kernelspec": {
   "display_name": "Python 3 (ipykernel)",
   "language": "python",
   "name": "python3"
  },
  "language_info": {
   "codemirror_mode": {
    "name": "ipython",
    "version": 3
   },
   "file_extension": ".py",
   "mimetype": "text/x-python",
   "name": "python",
   "nbconvert_exporter": "python",
   "pygments_lexer": "ipython3",
   "version": "3.11.5"
  }
 },
 "nbformat": 4,
 "nbformat_minor": 5
}
